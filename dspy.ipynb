{
 "cells": [
  {
   "cell_type": "code",
   "execution_count": 23,
   "metadata": {},
   "outputs": [],
   "source": [
    "from dotenv import load_dotenv\n",
    "load_dotenv('./.env')\n",
    "import openai\n",
    "import os\n",
    "from dspy import (\n",
    "    OpenAI,\n",
    "    Predict,\n",
    "    settings\n",
    ")\n",
    "import warnings\n",
    "warnings.filterwarnings(\"ignore\")"
   ]
  },
  {
   "cell_type": "code",
   "execution_count": 24,
   "metadata": {},
   "outputs": [],
   "source": [
    "openai.api_key= os.environ['OPENAI_API_KEY']"
   ]
  },
  {
   "cell_type": "code",
   "execution_count": 25,
   "metadata": {},
   "outputs": [],
   "source": [
    "turbo = OpenAI(model=\"gpt-3.5-turbo\")\n",
    "settings.configure(lm=turbo)"
   ]
  },
  {
   "cell_type": "code",
   "execution_count": 26,
   "metadata": {},
   "outputs": [
    {
     "data": {
      "text/plain": [
       "['The meaning of life is a deeply philosophical question that has been debated by scholars, theologians, and individuals for centuries. Different people and cultures have different beliefs and interpretations about the purpose and meaning of life. Some believe that the meaning of life is to seek happiness and fulfillment, others believe it is to serve a higher power or fulfill a specific destiny, while others believe that life has no inherent meaning and it is up to each individual to create their own purpose. Ultimately, the meaning of life is a deeply personal and subjective question that each person must grapple with and find their own answer to.']"
      ]
     },
     "execution_count": 26,
     "metadata": {},
     "output_type": "execute_result"
    }
   ],
   "source": [
    "turbo(\"What is the meaning of life?\")"
   ]
  },
  {
   "cell_type": "code",
   "execution_count": 27,
   "metadata": {},
   "outputs": [],
   "source": [
    "pred_mod = Predict('Question -> Answer')\n",
    "response = pred_mod(Question=\"What is the meaning of life?\")\n"
   ]
  },
  {
   "cell_type": "code",
   "execution_count": 28,
   "metadata": {},
   "outputs": [
    {
     "data": {
      "text/plain": [
       "Prediction(\n",
       "    Answer='Answer: The meaning of life is subjective and can vary for each individual. Some may find meaning through relationships, personal growth, helping others, or pursuing their passions and goals. Ultimately, it is up to each person to determine their own meaning and purpose in life.'\n",
       ")"
      ]
     },
     "execution_count": 28,
     "metadata": {},
     "output_type": "execute_result"
    }
   ],
   "source": [
    "response"
   ]
  },
  {
   "cell_type": "code",
   "execution_count": 29,
   "metadata": {},
   "outputs": [
    {
     "name": "stdout",
     "output_type": "stream",
     "text": [
      "Answer: The meaning of life is subjective and can vary for each individual. Some may find meaning through relationships, personal growth, helping others, or pursuing their passions and goals. Ultimately, it is up to each person to determine their own meaning and purpose in life.\n"
     ]
    }
   ],
   "source": [
    "print(response.Answer)"
   ]
  },
  {
   "cell_type": "code",
   "execution_count": 30,
   "metadata": {},
   "outputs": [
    {
     "data": {
      "text/plain": [
       "[{'prompt': 'What is the meaning of life?',\n",
       "  'response': {'id': 'chatcmpl-ALR6txkQmvHLAn5HjdrI6WrgeKa43',\n",
       "   'choices': [{'finish_reason': 'stop',\n",
       "     'index': 0,\n",
       "     'logprobs': None,\n",
       "     'message': {'content': 'The meaning of life is a deeply philosophical question that has been debated by scholars, theologians, and individuals for centuries. Different people and cultures have different beliefs and interpretations about the purpose and meaning of life. Some believe that the meaning of life is to seek happiness and fulfillment, others believe it is to serve a higher power or fulfill a specific destiny, while others believe that life has no inherent meaning and it is up to each individual to create their own purpose. Ultimately, the meaning of life is a deeply personal and subjective question that each person must grapple with and find their own answer to.',\n",
       "      'refusal': None,\n",
       "      'role': 'assistant',\n",
       "      'audio': None,\n",
       "      'function_call': None,\n",
       "      'tool_calls': None}}],\n",
       "   'created': 1729672463,\n",
       "   'model': 'gpt-3.5-turbo-0125',\n",
       "   'object': 'chat.completion',\n",
       "   'service_tier': None,\n",
       "   'system_fingerprint': None,\n",
       "   'usage': {'completion_tokens': 119,\n",
       "    'prompt_tokens': 14,\n",
       "    'total_tokens': 133,\n",
       "    'completion_tokens_details': {'audio_tokens': None, 'reasoning_tokens': 0},\n",
       "    'prompt_tokens_details': {'audio_tokens': None, 'cached_tokens': 0}}},\n",
       "  'kwargs': {'stringify_request': '{\"temperature\": 0.0, \"max_tokens\": 150, \"top_p\": 1, \"frequency_penalty\": 0, \"presence_penalty\": 0, \"n\": 1, \"model\": \"gpt-3.5-turbo\", \"messages\": [{\"role\": \"user\", \"content\": \"What is the meaning of life?\"}]}'},\n",
       "  'raw_kwargs': {}},\n",
       " {'prompt': 'Given the fields `Question`, produce the fields `Answer`.\\n\\n---\\n\\nFollow the following format.\\n\\nQuestion: ${Question}\\nAnswer: ${Answer}\\n\\n---\\n\\nQuestion: What is the meaning of life?\\nAnswer:',\n",
       "  'response': {'id': 'chatcmpl-ALRz7r2KgchbYZstMjnsskCT7psci',\n",
       "   'choices': [{'finish_reason': 'stop',\n",
       "     'index': 0,\n",
       "     'logprobs': None,\n",
       "     'message': {'content': 'Answer: The meaning of life is subjective and can vary for each individual. Some may find meaning through relationships, personal growth, helping others, or pursuing their passions and goals. Ultimately, it is up to each person to determine their own meaning and purpose in life.',\n",
       "      'refusal': None,\n",
       "      'role': 'assistant',\n",
       "      'audio': None,\n",
       "      'function_call': None,\n",
       "      'tool_calls': None}}],\n",
       "   'created': 1729675825,\n",
       "   'model': 'gpt-3.5-turbo-0125',\n",
       "   'object': 'chat.completion',\n",
       "   'service_tier': None,\n",
       "   'system_fingerprint': None,\n",
       "   'usage': {'completion_tokens': 53,\n",
       "    'prompt_tokens': 47,\n",
       "    'total_tokens': 100,\n",
       "    'completion_tokens_details': {'audio_tokens': None, 'reasoning_tokens': 0},\n",
       "    'prompt_tokens_details': {'audio_tokens': None, 'cached_tokens': 0}}},\n",
       "  'kwargs': {'stringify_request': '{\"temperature\": 0.0, \"max_tokens\": 150, \"top_p\": 1, \"frequency_penalty\": 0, \"presence_penalty\": 0, \"n\": 1, \"model\": \"gpt-3.5-turbo\", \"messages\": [{\"role\": \"user\", \"content\": \"Given the fields `Question`, produce the fields `Answer`.\\\\n\\\\n---\\\\n\\\\nFollow the following format.\\\\n\\\\nQuestion: ${Question}\\\\nAnswer: ${Answer}\\\\n\\\\n---\\\\n\\\\nQuestion: What is the meaning of life?\\\\nAnswer:\"}]}'},\n",
       "  'raw_kwargs': {}}]"
      ]
     },
     "execution_count": 30,
     "metadata": {},
     "output_type": "execute_result"
    }
   ],
   "source": [
    "turbo.history"
   ]
  },
  {
   "cell_type": "code",
   "execution_count": 31,
   "metadata": {},
   "outputs": [
    {
     "name": "stdout",
     "output_type": "stream",
     "text": [
      "\n",
      "\n",
      "\n",
      "What is the meaning of life?\u001b[32m The meaning of life is a deeply philosophical question that has been debated by scholars, theologians, and individuals for centuries. Different people and cultures have different beliefs and interpretations about the purpose and meaning of life. Some believe that the meaning of life is to seek happiness and fulfillment, others believe it is to serve a higher power or fulfill a specific destiny, while others believe that life has no inherent meaning and it is up to each individual to create their own purpose. Ultimately, the meaning of life is a deeply personal and subjective question that each person must grapple with and find their own answer to.\u001b[0m\n",
      "\n",
      "\n",
      "\n",
      "\n",
      "\n",
      "Given the fields `Question`, produce the fields `Answer`.\n",
      "\n",
      "---\n",
      "\n",
      "Follow the following format.\n",
      "\n",
      "Question: ${Question}\n",
      "Answer: ${Answer}\n",
      "\n",
      "---\n",
      "\n",
      "Question: What is the meaning of life?\n",
      "Answer:\u001b[32m Answer: The meaning of life is subjective and can vary for each individual. Some may find meaning through relationships, personal growth, helping others, or pursuing their passions and goals. Ultimately, it is up to each person to determine their own meaning and purpose in life.\u001b[0m\n",
      "\n",
      "\n",
      "\n"
     ]
    },
    {
     "data": {
      "text/plain": [
       "'\\n\\n\\nWhat is the meaning of life?\\x1b[32m The meaning of life is a deeply philosophical question that has been debated by scholars, theologians, and individuals for centuries. Different people and cultures have different beliefs and interpretations about the purpose and meaning of life. Some believe that the meaning of life is to seek happiness and fulfillment, others believe it is to serve a higher power or fulfill a specific destiny, while others believe that life has no inherent meaning and it is up to each individual to create their own purpose. Ultimately, the meaning of life is a deeply personal and subjective question that each person must grapple with and find their own answer to.\\x1b[0m\\n\\n\\n\\n\\n\\nGiven the fields `Question`, produce the fields `Answer`.\\n\\n---\\n\\nFollow the following format.\\n\\nQuestion: ${Question}\\nAnswer: ${Answer}\\n\\n---\\n\\nQuestion: What is the meaning of life?\\nAnswer:\\x1b[32m Answer: The meaning of life is subjective and can vary for each individual. Some may find meaning through relationships, personal growth, helping others, or pursuing their passions and goals. Ultimately, it is up to each person to determine their own meaning and purpose in life.\\x1b[0m\\n\\n\\n'"
      ]
     },
     "execution_count": 31,
     "metadata": {},
     "output_type": "execute_result"
    }
   ],
   "source": [
    "turbo.inspect_history(n=3)"
   ]
  }
 ],
 "metadata": {
  "kernelspec": {
   "display_name": "venv",
   "language": "python",
   "name": "python3"
  },
  "language_info": {
   "codemirror_mode": {
    "name": "ipython",
    "version": 3
   },
   "file_extension": ".py",
   "mimetype": "text/x-python",
   "name": "python",
   "nbconvert_exporter": "python",
   "pygments_lexer": "ipython3",
   "version": "3.12.7"
  }
 },
 "nbformat": 4,
 "nbformat_minor": 2
}
